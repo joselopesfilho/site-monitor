{
 "cells": [
  {
   "cell_type": "code",
   "execution_count": 3,
   "id": "eb8a9427",
   "metadata": {},
   "outputs": [],
   "source": [
    "import requests"
   ]
  },
  {
   "cell_type": "code",
   "execution_count": 4,
   "id": "97399962",
   "metadata": {},
   "outputs": [],
   "source": [
    "STATUS_CODES = {\n",
    "    100: \"Continue\",\n",
    "    101: \"Switching Protocols\",\n",
    "    102: \"Processing\",\n",
    "    103: \"Early Hints\",\n",
    "    200: \"OK\",\n",
    "    201: \"Created\",\n",
    "    202: \"Accepted\",\n",
    "    203: \"Non-Authoritative Information\",\n",
    "    204: \"No Content\",\n",
    "    205: \"Reset Content\",\n",
    "    206: \"Partial Content\",\n",
    "    207: \"Multi-Status\",\n",
    "    208: \"Already Reported\",\n",
    "    226: \"IM Used\",\n",
    "    300: \"Multiple Choices\",\n",
    "    301: \"Moved Permanently\",\n",
    "    302: \"Found\",\n",
    "    303: \"See Other\",\n",
    "    304: \"Not Modified\",\n",
    "    307: \"Redirecionamento temporário\",\n",
    "    308: \"Permanent Redirect\",\n",
    "    400: \"Bad Request\",\n",
    "    401: \"Unauthorized\",\n",
    "    402: \"Payment Required\",\n",
    "    403: \"Forbidden\",\n",
    "    404: \"Not Found\",\n",
    "    405: \"Method Not Allowed\",\n",
    "    406: \"Not Acceptable\",\n",
    "    407: \"Proxy Authentication Required\",\n",
    "    408: \"Request Timeout\",\n",
    "    409: \"Conflict\",\n",
    "    410: \"Gone\",\n",
    "    411: \"Length Required\",\n",
    "    412: \"Precondition Failed\",\n",
    "    413: \"Payload Too Large\",\n",
    "    414: \"URI Too Long\",\n",
    "    415: \"Unsupported Media Type\",\n",
    "    416: \"Range Not Satisfiable\",\n",
    "    417: \"Expectation Failed\",\n",
    "    418: \"I'm a teapot\",\n",
    "    421: \"Misdirected Request\",\n",
    "    422: \"Unprocessable Entity\",\n",
    "    423: \"Locked\",\n",
    "    424: \"Failed Dependency\",\n",
    "    425: \"Too Early\",\n",
    "    426: \"Upgrade Required\",\n",
    "    428: \"Precondition Required\",\n",
    "    429: \"Too Many Requests\",\n",
    "    431: \"Request Header Fields Too Large\",\n",
    "    451: \"Unavailable For Legal Reasons\",\n",
    "    500: \"Internal Server Error\",\n",
    "    501: \"Not Implemented\",\n",
    "    502: \"Bad Gateway\",\n",
    "    503: \"Service Unavailable\",\n",
    "    504: \"Gateway Timeout\",\n",
    "    505: \"HTTP Version Not Supported\",\n",
    "    506: \"Variant Also Negotiates\",\n",
    "    507: \"Insufficient Storage\",\n",
    "    508: \"Loop Detected\",\n",
    "    510: \"Not Extended\",\n",
    "    511: \"Network Authentication Required\"\n",
    "}"
   ]
  },
  {
   "cell_type": "code",
   "execution_count": 5,
   "id": "62558275",
   "metadata": {},
   "outputs": [],
   "source": [
    "def telegram_bot_sendtext(bot_message):\n",
    "    bot_token = '7139158400:AAH0IPUZ6BlCNqu3OvnDnYGQbpFnWUcrjxo'  # Substitua pelo seu token real\n",
    "    bot_chatID = '815348343'  # Substitua pelo seu chatID real\n",
    "    send_text = f'https://api.telegram.org/bot{bot_token}/sendMessage?chat_id={bot_chatID}&parse_mode=Markdown&text={bot_message}'\n",
    "\n",
    "    response = requests.get(send_text)\n",
    "    return response.json()"
   ]
  },
  {
   "cell_type": "code",
   "execution_count": 6,
   "id": "67d4f0c8",
   "metadata": {},
   "outputs": [],
   "source": [
    "def get_website_status(url):\n",
    "    try:\n",
    "        response = requests.get(url)\n",
    "        if response.status_code in STATUS_CODES:\n",
    "            return f\"{response.status_code}: {STATUS_CODES[response.status_code]}\"\n",
    "        else:\n",
    "            return f\"Unknown Status Code: {response.status_code}\"\n",
    "    except requests.exceptions.RequestException as e:\n",
    "        return f\"Error: {str(e)}\""
   ]
  },
  {
   "cell_type": "code",
   "execution_count": 7,
   "id": "4379ffae",
   "metadata": {},
   "outputs": [],
   "source": [
    "def main():\n",
    "    website_url = 'http://www.saintgeorge.com.br'\n",
    "    website_status = get_website_status(website_url)\n",
    "    telegram_bot_sendtext(website_status)"
   ]
  },
  {
   "cell_type": "code",
   "execution_count": 8,
   "id": "ec2f44c7",
   "metadata": {},
   "outputs": [],
   "source": [
    "if __name__ == \"__main__\":\n",
    "    main()"
   ]
  },
  {
   "cell_type": "code",
   "execution_count": null,
   "id": "7b7dcbaa",
   "metadata": {},
   "outputs": [],
   "source": []
  }
 ],
 "metadata": {
  "kernelspec": {
   "display_name": "Python 3 (ipykernel)",
   "language": "python",
   "name": "python3"
  },
  "language_info": {
   "codemirror_mode": {
    "name": "ipython",
    "version": 3
   },
   "file_extension": ".py",
   "mimetype": "text/x-python",
   "name": "python",
   "nbconvert_exporter": "python",
   "pygments_lexer": "ipython3",
   "version": "3.9.17"
  }
 },
 "nbformat": 4,
 "nbformat_minor": 5
}
